{
 "cells": [
  {
   "cell_type": "code",
   "execution_count": 1,
   "id": "793e0426",
   "metadata": {},
   "outputs": [],
   "source": [
    "import pandas as pd\n",
    "import numpy as np\n",
    "import itertools\n"
   ]
  },
  {
   "cell_type": "code",
   "execution_count": 2,
   "id": "cd086b45",
   "metadata": {},
   "outputs": [],
   "source": [
    "\n",
    "xls = pd.ExcelFile(\"data3.xlsx\")\n",
    "data = pd.read_excel(xls, 'Sheet1')\n",
    "data2 = pd.read_excel(xls, 'Sheet2')"
   ]
  },
  {
   "cell_type": "code",
   "execution_count": 3,
   "id": "b8acad1c",
   "metadata": {},
   "outputs": [],
   "source": [
    "np_data = np.array(data) # change data with data2 to obtain solution for data2 in sheet2\n",
    "np_data_copy = np_data.copy()"
   ]
  },
  {
   "cell_type": "code",
   "execution_count": 4,
   "id": "5050bcf5",
   "metadata": {},
   "outputs": [
    {
     "data": {
      "text/plain": [
       "[[1, 4, 6, 3], [9, 7, 10, 9], [4, 5, 11, 7], [8, 7, 8, 5]]"
      ]
     },
     "execution_count": 4,
     "metadata": {},
     "output_type": "execute_result"
    }
   ],
   "source": [
    "np_data.tolist()"
   ]
  },
  {
   "cell_type": "markdown",
   "id": "0c1d8f17",
   "metadata": {},
   "source": [
    "# Helper Functions"
   ]
  },
  {
   "cell_type": "code",
   "execution_count": 5,
   "id": "70f11b68",
   "metadata": {},
   "outputs": [],
   "source": [
    "def check_developed(np_array):\n",
    "    indices = []\n",
    "    for i in range(np_array.shape[0]):\n",
    "        for j in range(np_array.shape[1]):\n",
    "            if np_array[i,j] == 0:\n",
    "                indices.append((i,j))\n",
    "                \n",
    "    \n",
    "\n",
    " \n",
    "\n",
    "     \n",
    "    com_set = itertools.combinations(indices, np_array.shape[0])\n",
    "    I = set([i for i in range(np_array.shape[0])])\n",
    "    #print(\"I:\",I)\n",
    "\n",
    "    for i in com_set:\n",
    "        x_set = set()\n",
    "        y_set = set()\n",
    "        #print(i)\n",
    "        for j in range(np_array.shape[0]):\n",
    "            x_set.add(i[j][0])\n",
    "            y_set.add(i[j][1])\n",
    "        #print(x_set,y_set)\n",
    "        if x_set.issuperset(I) and y_set.issuperset(I):\n",
    "            return (True,i)\n",
    "        \n",
    "        \n",
    "    return (False,)"
   ]
  },
  {
   "cell_type": "code",
   "execution_count": 6,
   "id": "d304844e",
   "metadata": {},
   "outputs": [],
   "source": [
    "def all_covered(di):\n",
    "    for i in di.values():\n",
    "        if not i:\n",
    "            return False\n",
    "        \n",
    "    return True"
   ]
  },
  {
   "cell_type": "code",
   "execution_count": 7,
   "id": "60e21b1b",
   "metadata": {},
   "outputs": [],
   "source": [
    "def maxi(di):\n",
    "    M = 0\n",
    "    indi = -1\n",
    "    for i in di:\n",
    "        if di[i] > M:\n",
    "            M = di[i]\n",
    "            indi = i\n",
    "            \n",
    "    if indi == -1:\n",
    "        return -1\n",
    "    \n",
    "    \n",
    "    return indi"
   ]
  },
  {
   "cell_type": "code",
   "execution_count": 8,
   "id": "6f886bf9",
   "metadata": {},
   "outputs": [],
   "source": [
    "def most_freq(key, indi):\n",
    "    di = {}\n",
    "    if key in \"xX\":\n",
    "        for i in indi:\n",
    "            if i[0] not in di:\n",
    "                di[i[0]] = 1\n",
    "            else:\n",
    "                di[i[0]] += 1\n",
    "                \n",
    "        return maxi(di)\n",
    "    \n",
    "    if key in \"Yy\":\n",
    "        for i in indi:\n",
    "            if i[1] not in di:\n",
    "                di[i[1]] = 1\n",
    "            else:\n",
    "                di[i[1]] += 1\n",
    "                \n",
    "        return maxi(di)"
   ]
  },
  {
   "cell_type": "code",
   "execution_count": 9,
   "id": "805e65ba",
   "metadata": {},
   "outputs": [],
   "source": [
    "def decider(indi):\n",
    "        di_x = {}\n",
    "        for i in indi:\n",
    "            if i[0] not in di_x:\n",
    "                di_x[i[0]] = 1\n",
    "            else:\n",
    "                di_x[i[0]] += 1\n",
    "        di_y = {}\n",
    "        for i in indi:\n",
    "            if i[1] not in di_y:\n",
    "                di_y[i[1]] = 1\n",
    "            else:\n",
    "                di_y[i[1]] += 1\n",
    "                \n",
    "        if maxi(di_x) == -1 and maxi(di_y) == -1:\n",
    "            return -1\n",
    "        elif maxi(di_x) > maxi(di_y):\n",
    "            return 1\n",
    "        else:\n",
    "            return 0"
   ]
  },
  {
   "cell_type": "code",
   "execution_count": 10,
   "id": "6413d2c8",
   "metadata": {},
   "outputs": [],
   "source": [
    "def min_of_uncovered(big_covered, np_array):\n",
    "    M = 999999\n",
    "    indi = -1\n",
    "    for i in range(np_array.shape[0]):\n",
    "        for j in range(np_array.shape[1]):\n",
    "            if big_covered[(i,j)] == False and np_array[i,j] < M:\n",
    "                M = np_array[i,j]\n",
    "                indi = (i,j)\n",
    "                \n",
    "    return M"
   ]
  },
  {
   "cell_type": "markdown",
   "id": "317507b9",
   "metadata": {},
   "source": [
    "# Initialize the Matrix by Applying step 1 and step 2"
   ]
  },
  {
   "cell_type": "code",
   "execution_count": 11,
   "id": "ddc92267",
   "metadata": {},
   "outputs": [],
   "source": [
    "#initialize \n",
    "for i in range(np_data.shape[0]):\n",
    "    mini = np_data[i].min()\n",
    "#    print(mini)\n",
    "    for j in range(np_data.shape[1]):\n",
    "        np_data[i][j]=np_data[i][j]-mini\n",
    "        \n",
    "np_data = np_data - np_data.min(axis=0)"
   ]
  },
  {
   "cell_type": "code",
   "execution_count": 12,
   "id": "04d4a191",
   "metadata": {},
   "outputs": [
    {
     "data": {
      "text/plain": [
       "[[0, 3, 2, 2], [2, 0, 0, 2], [0, 1, 4, 3], [3, 2, 0, 0]]"
      ]
     },
     "execution_count": 12,
     "metadata": {},
     "output_type": "execute_result"
    }
   ],
   "source": [
    "np_data.tolist()"
   ]
  },
  {
   "cell_type": "markdown",
   "id": "5a90fffd",
   "metadata": {},
   "source": [
    "# Iterations"
   ]
  },
  {
   "cell_type": "code",
   "execution_count": 13,
   "id": "5f2dae1b",
   "metadata": {},
   "outputs": [
    {
     "name": "stdout",
     "output_type": "stream",
     "text": [
      "Data:\n",
      "[[ 1  4  6  3]\n",
      " [ 9  7 10  9]\n",
      " [ 4  5 11  7]\n",
      " [ 8  7  8  5]]\n",
      "Iteration 0\n",
      "[[0 3 2 2]\n",
      " [2 0 0 2]\n",
      " [0 1 4 3]\n",
      " [3 2 0 0]]\n",
      "Iteration: 1\n",
      "[[0 2 1 1]\n",
      " [3 0 0 2]\n",
      " [0 0 3 2]\n",
      " [4 2 0 0]]\n"
     ]
    }
   ],
   "source": [
    "print(\"Data:\")\n",
    "print(np_data_copy)\n",
    "iteration = 0\n",
    "print(\"Iteration 0\")\n",
    "print(np_data)\n",
    "# checks wheter data is form of optimal or not.\n",
    "while not check_developed(np_data)[0]:\n",
    "    #initilizes some variables\n",
    "\n",
    "    indices = []\n",
    "\n",
    "    for i in range(np_data.shape[0]):\n",
    "        for j in range(np_data.shape[1]):\n",
    "            if np_data[i,j] == 0:\n",
    "                indices.append((i,j))\n",
    "                \n",
    "    covered = {}\n",
    "    for i in indices:\n",
    "        covered[i] = False\n",
    "\n",
    "    lined = {\"x\":[],\"y\":[]}\n",
    "    \n",
    "    #Tries to cover all 0s with minumum number of lines\n",
    "    while not all_covered(covered):\n",
    "        #print(\"iteration:\", iteration)\n",
    "        k = most_freq(\"x\",indices)\n",
    "        t = most_freq(\"y\",indices)\n",
    "        if decider(indices) == 1:\n",
    "            if k != -1:\n",
    "                #print(k)\n",
    "                lined[\"x\"].append(k)\n",
    "                for i in covered:\n",
    "                    if i[0] == k:\n",
    "                        covered[i] = True\n",
    "                        #print(i)\n",
    "                        if indices.count(i) > 0:\n",
    "                            indices.remove(i)\n",
    "        elif decider(indices) == 0:\n",
    "            if t != -1:\n",
    "                #print(t)\n",
    "                lined[\"y\"].append(t)\n",
    "                for i in covered:\n",
    "                    if i[1] == t:\n",
    "                        covered[i] = True\n",
    "                        #print(i)\n",
    "                        if indices.count(i) > 0:\n",
    "                            indices.remove(i)\n",
    "\n",
    "        \n",
    "        \n",
    "    covered_big = {}\n",
    "  \n",
    "    \n",
    "\n",
    "\n",
    "    for i in range(np_data.shape[0]):\n",
    "        for j in range(np_data.shape[1]):\n",
    "            if i in lined[\"x\"] or j in lined[\"y\"]:\n",
    "                covered_big[(i,j)] = True\n",
    "            else:\n",
    "                covered_big[(i,j)] = False\n",
    "                \n",
    "                \n",
    "                \n",
    "    \n",
    "    #print(\"covered_big:\",covered_big)\n",
    "    I = [(i,j) for i in lined[\"x\"] for j in lined[\"y\"]]\n",
    "    \n",
    "    mino = min_of_uncovered(covered_big,np_data)\n",
    "    #print(mino)\n",
    "    for i in range(np_data.shape[0]):\n",
    "        for j in range(np_data.shape[1]):\n",
    "            if (i,j) in I:\n",
    "                #print(np_data[i,j],\"=\",\"np_data[\",i,j,\"] +\",mino)\n",
    "                np_data[i,j] += mino\n",
    "            elif covered_big[(i,j)] == False:\n",
    "                np_data[i,j] -= mino\n",
    "                #print(np_data[i,j],\"=\",\"np_data[\",i,j,\"] -\",mino)\n",
    "                \n",
    "    iteration += 1\n",
    "    print(\"Iteration:\", iteration)\n",
    "    print(np_data)\n",
    "                \n",
    "                \n",
    "                \n"
   ]
  },
  {
   "cell_type": "markdown",
   "id": "1934bb6f",
   "metadata": {},
   "source": [
    "# The Results"
   ]
  },
  {
   "cell_type": "code",
   "execution_count": 14,
   "id": "3d9c00ec",
   "metadata": {},
   "outputs": [
    {
     "name": "stdout",
     "output_type": "stream",
     "text": [
      "Set of selected\n",
      "((0, 0), (1, 2), (2, 1), (3, 3))\n",
      "The total cost is: 21\n"
     ]
    }
   ],
   "source": [
    "print(\"Set of selected\")\n",
    "print(check_developed(np_data)[1])\n",
    "summ = 0\n",
    "for i in check_developed(np_data)[1]:\n",
    "    summ += np_data_copy[i[0],i[1]]\n",
    "print(\"The total cost is:\", summ)"
   ]
  },
  {
   "cell_type": "code",
   "execution_count": null,
   "id": "9a2ac46b",
   "metadata": {},
   "outputs": [],
   "source": []
  }
 ],
 "metadata": {
  "kernelspec": {
   "display_name": "Python 3",
   "language": "python",
   "name": "python3"
  },
  "language_info": {
   "codemirror_mode": {
    "name": "ipython",
    "version": 3
   },
   "file_extension": ".py",
   "mimetype": "text/x-python",
   "name": "python",
   "nbconvert_exporter": "python",
   "pygments_lexer": "ipython3",
   "version": "3.8.8"
  }
 },
 "nbformat": 4,
 "nbformat_minor": 5
}
